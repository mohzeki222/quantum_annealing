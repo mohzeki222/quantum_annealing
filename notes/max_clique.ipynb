{
 "cells": [
  {
   "cell_type": "markdown",
   "metadata": {},
   "source": [
    "## Necessary conditions for Max Clique \n",
    "### Install pyQUBO from Recruit Communications Co. Ltd.\n",
    "    pip install pyqubo\n",
    "### Install openJij from Jij Inc.  (startup from Tohoku University)\n",
    "    pip install openjij"
   ]
  },
  {
   "cell_type": "markdown",
   "metadata": {},
   "source": [
    "### Add networkx for dealing with graph theory"
   ]
  },
  {
   "cell_type": "markdown",
   "metadata": {},
   "source": [
    "        pip install networkx"
   ]
  },
  {
   "cell_type": "markdown",
   "metadata": {},
   "source": [
    "# Solve Max Clique"
   ]
  },
  {
   "cell_type": "markdown",
   "metadata": {},
   "source": [
    "### import pyQUBO, openJij, numpy and matplotlib"
   ]
  },
  {
   "cell_type": "code",
   "execution_count": 1,
   "metadata": {},
   "outputs": [],
   "source": [
    "from pyqubo  import Array,Constraint, Placeholder\n",
    "import openjij as jij\n",
    "import numpy as np\n",
    "import matplotlib.pyplot as plt"
   ]
  },
  {
   "cell_type": "markdown",
   "metadata": {},
   "source": [
    "Array, Constrains and Placeholders are convenient classes from pyQUBO"
   ]
  },
  {
   "cell_type": "markdown",
   "metadata": {},
   "source": [
    "### import networkx"
   ]
  },
  {
   "cell_type": "code",
   "execution_count": 2,
   "metadata": {},
   "outputs": [],
   "source": [
    "import networkx as nx"
   ]
  },
  {
   "cell_type": "markdown",
   "metadata": {},
   "source": [
    "### Prepare some graph"
   ]
  },
  {
   "cell_type": "code",
   "execution_count": 3,
   "metadata": {},
   "outputs": [],
   "source": [
    "nodes = [0, 1, 2, 3, 4, 5]\n",
    "edges = [\n",
    "    (0, 1), (1, 2), (2, 4), (1, 3),\n",
    "    (3, 4), (4, 5), (3, 5)\n",
    "    ]"
   ]
  },
  {
   "cell_type": "markdown",
   "metadata": {},
   "source": [
    "### Set nodes and edges on Graph G"
   ]
  },
  {
   "cell_type": "code",
   "execution_count": 4,
   "metadata": {},
   "outputs": [],
   "source": [
    "G = nx.Graph()\n",
    "G.add_nodes_from(nodes)\n",
    "G.add_edges_from(edges)"
   ]
  },
  {
   "cell_type": "code",
   "execution_count": 5,
   "metadata": {},
   "outputs": [
    {
     "data": {
      "image/png": "[encoded data removed]",
      "text/plain": [
       "<Figure size 432x288 with 1 Axes>"
      ]
     },
     "metadata": {},
     "output_type": "display_data"
    }
   ],
   "source": [
    "nx.draw_networkx(G)\n",
    "plt.axis(\"off\")\n",
    "plt.show()"
   ]
  },
  {
   "cell_type": "markdown",
   "metadata": {},
   "source": [
    "### Prepare binary variables"
   ]
  },
  {
   "cell_type": "code",
   "execution_count": 6,
   "metadata": {},
   "outputs": [],
   "source": [
    "N = 6\n",
    "K = 3\n",
    "vartype = \"BINARY\"\n",
    "q = Array.create(\"q\",shape=N,vartype=vartype)"
   ]
  },
  {
   "cell_type": "markdown",
   "metadata": {},
   "source": [
    "\"q\" is name of variables  \n",
    "shape specifies the shape of variables as vector, matrix, or...  \n",
    "vartype selects -1 or 1 by \"SPIN\" and 0 or 1by \"BINARY\""
   ]
  },
  {
   "cell_type": "code",
   "execution_count": 7,
   "metadata": {},
   "outputs": [
    {
     "name": "stdout",
     "output_type": "stream",
     "text": [
      "Array([Binary(q[0]), Binary(q[1]), Binary(q[2]), Binary(q[3]), Binary(q[4]), Binary(q[5])])\n"
     ]
    }
   ],
   "source": [
    "print(q)"
   ]
  },
  {
   "cell_type": "markdown",
   "metadata": {},
   "source": [
    "### Define cost function"
   ]
  },
  {
   "cell_type": "code",
   "execution_count": 34,
   "metadata": {},
   "outputs": [],
   "source": [
    "E1 = Constraint(0.5*(np.sum(q)-K)**2,\"K\")"
   ]
  },
  {
   "cell_type": "code",
   "execution_count": 35,
   "metadata": {},
   "outputs": [],
   "source": [
    "E2 = 0\n",
    "for e in edges:\n",
    "    E2 += - q[e[0]]*q[e[1]]\n",
    "E2 += 0.5*K*(K-1)"
   ]
  },
  {
   "cell_type": "code",
   "execution_count": 36,
   "metadata": {},
   "outputs": [],
   "source": [
    "Lam = Placeholder('Lam')\n",
    "E_cost = Lam*E1+E2"
   ]
  },
  {
   "cell_type": "markdown",
   "metadata": {},
   "source": [
    "### Compile the cost function"
   ]
  },
  {
   "cell_type": "code",
   "execution_count": 37,
   "metadata": {},
   "outputs": [],
   "source": [
    "model = E_cost.compile()"
   ]
  },
  {
   "cell_type": "markdown",
   "metadata": {},
   "source": [
    "### Get qubo matrix"
   ]
  },
  {
   "cell_type": "code",
   "execution_count": 38,
   "metadata": {},
   "outputs": [],
   "source": [
    "feed_dict = {'Lam': 5.0}\n",
    "Q, offset = model.to_qubo(feed_dict=feed_dict)"
   ]
  },
  {
   "cell_type": "markdown",
   "metadata": {},
   "source": [
    "### Prepare simulation of quantum annealing"
   ]
  },
  {
   "cell_type": "code",
   "execution_count": 39,
   "metadata": {},
   "outputs": [],
   "source": [
    "#simulated quantum annealing\n",
    "sampler = jij.SQASampler(beta=10.0, gamma=1.0, trotter=4, num_sweeps=100)\n",
    "#simulated annealing\n",
    "#sampler = jij.SASampler(num_sweeps=1000)"
   ]
  },
  {
   "cell_type": "markdown",
   "metadata": {},
   "source": [
    "This is done by quantum Monte-Carlo simulation  \n",
    "gamma = strength of quantum fluctuation  \n",
    "trotter = Trotter number  \n",
    "num_sweeps = length of MCS"
   ]
  },
  {
   "cell_type": "markdown",
   "metadata": {},
   "source": [
    "### Let's simulate quantum annealing"
   ]
  },
  {
   "cell_type": "code",
   "execution_count": 40,
   "metadata": {},
   "outputs": [],
   "source": [
    "response = sampler.sample_qubo(Q,num_reads=100)"
   ]
  },
  {
   "cell_type": "markdown",
   "metadata": {},
   "source": [
    "### Show results"
   ]
  },
  {
   "cell_type": "code",
   "execution_count": 41,
   "metadata": {},
   "outputs": [
    {
     "name": "stdout",
     "output_type": "stream",
     "text": [
      "   q[0] q[1] q[2] q[3] q[4] q[5] energy num_oc.\n",
      "0     0    0    0    1    1    1  -25.5       1\n",
      "1     0    0    0    1    1    1  -25.5       1\n",
      "2     0    0    0    1    1    1  -25.5       1\n",
      "3     0    0    0    1    1    1  -25.5       1\n",
      "4     0    0    0    1    1    1  -25.5       1\n",
      "6     0    0    0    1    1    1  -25.5       1\n",
      "8     0    0    0    1    1    1  -25.5       1\n",
      "9     0    0    0    1    1    1  -25.5       1\n",
      "10    0    0    0    1    1    1  -25.5       1\n",
      "13    0    0    0    1    1    1  -25.5       1\n",
      "15    0    0    0    1    1    1  -25.5       1\n",
      "16    0    0    0    1    1    1  -25.5       1\n",
      "17    0    0    0    1    1    1  -25.5       1\n",
      "21    0    0    0    1    1    1  -25.5       1\n",
      "22    0    0    0    1    1    1  -25.5       1\n",
      "23    0    0    0    1    1    1  -25.5       1\n",
      "24    0    0    0    1    1    1  -25.5       1\n",
      "25    0    0    0    1    1    1  -25.5       1\n",
      "28    0    0    0    1    1    1  -25.5       1\n",
      "29    0    0    0    1    1    1  -25.5       1\n",
      "31    0    0    0    1    1    1  -25.5       1\n",
      "32    0    0    0    1    1    1  -25.5       1\n",
      "33    0    0    0    1    1    1  -25.5       1\n",
      "35    0    0    0    1    1    1  -25.5       1\n",
      "36    0    0    0    1    1    1  -25.5       1\n",
      "37    0    0    0    1    1    1  -25.5       1\n",
      "38    0    0    0    1    1    1  -25.5       1\n",
      "40    0    0    0    1    1    1  -25.5       1\n",
      "41    0    0    0    1    1    1  -25.5       1\n",
      "42    0    0    0    1    1    1  -25.5       1\n",
      "43    0    0    0    1    1    1  -25.5       1\n",
      "45    0    0    0    1    1    1  -25.5       1\n",
      "46    0    0    0    1    1    1  -25.5       1\n",
      "47    0    0    0    1    1    1  -25.5       1\n",
      "48    0    0    0    1    1    1  -25.5       1\n",
      "49    0    0    0    1    1    1  -25.5       1\n",
      "50    0    0    0    1    1    1  -25.5       1\n",
      "52    0    0    0    1    1    1  -25.5       1\n",
      "53    0    0    0    1    1    1  -25.5       1\n",
      "54    0    0    0    1    1    1  -25.5       1\n",
      "55    0    0    0    1    1    1  -25.5       1\n",
      "56    0    0    0    1    1    1  -25.5       1\n",
      "57    0    0    0    1    1    1  -25.5       1\n",
      "58    0    0    0    1    1    1  -25.5       1\n",
      "59    0    0    0    1    1    1  -25.5       1\n",
      "60    0    0    0    1    1    1  -25.5       1\n",
      "61    0    0    0    1    1    1  -25.5       1\n",
      "62    0    0    0    1    1    1  -25.5       1\n",
      "63    0    0    0    1    1    1  -25.5       1\n",
      "64    0    0    0    1    1    1  -25.5       1\n",
      "66    0    0    0    1    1    1  -25.5       1\n",
      "67    0    0    0    1    1    1  -25.5       1\n",
      "68    0    0    0    1    1    1  -25.5       1\n",
      "69    0    0    0    1    1    1  -25.5       1\n",
      "70    0    0    0    1    1    1  -25.5       1\n",
      "73    0    0    0    1    1    1  -25.5       1\n",
      "74    0    0    0    1    1    1  -25.5       1\n",
      "75    0    0    0    1    1    1  -25.5       1\n",
      "76    0    0    0    1    1    1  -25.5       1\n",
      "77    0    0    0    1    1    1  -25.5       1\n",
      "78    0    0    0    1    1    1  -25.5       1\n",
      "79    0    0    0    1    1    1  -25.5       1\n",
      "80    0    0    0    1    1    1  -25.5       1\n",
      "81    0    0    0    1    1    1  -25.5       1\n",
      "83    0    0    0    1    1    1  -25.5       1\n",
      "85    0    0    0    1    1    1  -25.5       1\n",
      "86    0    0    0    1    1    1  -25.5       1\n",
      "87    0    0    0    1    1    1  -25.5       1\n",
      "89    0    0    0    1    1    1  -25.5       1\n",
      "90    0    0    0    1    1    1  -25.5       1\n",
      "91    0    0    0    1    1    1  -25.5       1\n",
      "92    0    0    0    1    1    1  -25.5       1\n",
      "93    0    0    0    1    1    1  -25.5       1\n",
      "94    0    0    0    1    1    1  -25.5       1\n",
      "96    0    0    0    1    1    1  -25.5       1\n",
      "97    0    0    0    1    1    1  -25.5       1\n",
      "98    0    0    0    1    1    1  -25.5       1\n",
      "99    0    0    0    1    1    1  -25.5       1\n",
      "5     1    1    1    0    0    0  -24.5       1\n",
      "7     0    1    1    0    1    0  -24.5       1\n",
      "11    1    1    1    0    0    0  -24.5       1\n",
      "12    0    1    1    1    0    0  -24.5       1\n",
      "14    0    1    1    0    1    0  -24.5       1\n",
      "18    0    1    0    1    1    0  -24.5       1\n",
      "19    0    0    1    0    1    1  -24.5       1\n",
      "20    0    1    1    0    1    0  -24.5       1\n",
      "26    0    1    0    1    1    0  -24.5       1\n",
      "27    0    1    0    1    1    0  -24.5       1\n",
      "30    0    1    0    1    1    0  -24.5       1\n",
      "34    0    1    0    1    1    0  -24.5       1\n",
      "39    0    0    1    1    1    0  -24.5       1\n",
      "44    1    1    1    0    0    0  -24.5       1\n",
      "51    0    1    0    1    1    0  -24.5       1\n",
      "65    0    0    1    1    1    0  -24.5       1\n",
      "71    0    1    1    1    0    0  -24.5       1\n",
      "72    0    1    0    1    1    0  -24.5       1\n",
      "82    0    1    1    0    1    0  -24.5       1\n",
      "84    0    1    0    1    1    0  -24.5       1\n",
      "88    0    0    1    1    1    0  -24.5       1\n",
      "95    0    1    1    1    0    0  -24.5       1\n",
      "['BINARY', 100 rows, 100 samples, 6 variables]\n"
     ]
    }
   ],
   "source": [
    "print(response)"
   ]
  },
  {
   "cell_type": "markdown",
   "metadata": {},
   "source": [
    "### minimum sample"
   ]
  },
  {
   "cell_type": "code",
   "execution_count": 42,
   "metadata": {},
   "outputs": [
    {
     "data": {
      "text/plain": [
       "array([[0, 0, 0, 1, 1, 1],\n",
       "       [0, 0, 0, 1, 1, 1],\n",
       "       [0, 0, 0, 1, 1, 1],\n",
       "       [0, 0, 0, 1, 1, 1],\n",
       "       [0, 0, 0, 1, 1, 1],\n",
       "       [1, 1, 1, 0, 0, 0],\n",
       "       [0, 0, 0, 1, 1, 1],\n",
       "       [0, 1, 1, 0, 1, 0],\n",
       "       [0, 0, 0, 1, 1, 1],\n",
       "       [0, 0, 0, 1, 1, 1],\n",
       "       [0, 0, 0, 1, 1, 1],\n",
       "       [1, 1, 1, 0, 0, 0],\n",
       "       [0, 1, 1, 1, 0, 0],\n",
       "       [0, 0, 0, 1, 1, 1],\n",
       "       [0, 1, 1, 0, 1, 0],\n",
       "       [0, 0, 0, 1, 1, 1],\n",
       "       [0, 0, 0, 1, 1, 1],\n",
       "       [0, 0, 0, 1, 1, 1],\n",
       "       [0, 1, 0, 1, 1, 0],\n",
       "       [0, 0, 1, 0, 1, 1],\n",
       "       [0, 1, 1, 0, 1, 0],\n",
       "       [0, 0, 0, 1, 1, 1],\n",
       "       [0, 0, 0, 1, 1, 1],\n",
       "       [0, 0, 0, 1, 1, 1],\n",
       "       [0, 0, 0, 1, 1, 1],\n",
       "       [0, 0, 0, 1, 1, 1],\n",
       "       [0, 1, 0, 1, 1, 0],\n",
       "       [0, 1, 0, 1, 1, 0],\n",
       "       [0, 0, 0, 1, 1, 1],\n",
       "       [0, 0, 0, 1, 1, 1],\n",
       "       [0, 1, 0, 1, 1, 0],\n",
       "       [0, 0, 0, 1, 1, 1],\n",
       "       [0, 0, 0, 1, 1, 1],\n",
       "       [0, 0, 0, 1, 1, 1],\n",
       "       [0, 1, 0, 1, 1, 0],\n",
       "       [0, 0, 0, 1, 1, 1],\n",
       "       [0, 0, 0, 1, 1, 1],\n",
       "       [0, 0, 0, 1, 1, 1],\n",
       "       [0, 0, 0, 1, 1, 1],\n",
       "       [0, 0, 1, 1, 1, 0],\n",
       "       [0, 0, 0, 1, 1, 1],\n",
       "       [0, 0, 0, 1, 1, 1],\n",
       "       [0, 0, 0, 1, 1, 1],\n",
       "       [0, 0, 0, 1, 1, 1],\n",
       "       [1, 1, 1, 0, 0, 0],\n",
       "       [0, 0, 0, 1, 1, 1],\n",
       "       [0, 0, 0, 1, 1, 1],\n",
       "       [0, 0, 0, 1, 1, 1],\n",
       "       [0, 0, 0, 1, 1, 1],\n",
       "       [0, 0, 0, 1, 1, 1],\n",
       "       [0, 0, 0, 1, 1, 1],\n",
       "       [0, 1, 0, 1, 1, 0],\n",
       "       [0, 0, 0, 1, 1, 1],\n",
       "       [0, 0, 0, 1, 1, 1],\n",
       "       [0, 0, 0, 1, 1, 1],\n",
       "       [0, 0, 0, 1, 1, 1],\n",
       "       [0, 0, 0, 1, 1, 1],\n",
       "       [0, 0, 0, 1, 1, 1],\n",
       "       [0, 0, 0, 1, 1, 1],\n",
       "       [0, 0, 0, 1, 1, 1],\n",
       "       [0, 0, 0, 1, 1, 1],\n",
       "       [0, 0, 0, 1, 1, 1],\n",
       "       [0, 0, 0, 1, 1, 1],\n",
       "       [0, 0, 0, 1, 1, 1],\n",
       "       [0, 0, 0, 1, 1, 1],\n",
       "       [0, 0, 1, 1, 1, 0],\n",
       "       [0, 0, 0, 1, 1, 1],\n",
       "       [0, 0, 0, 1, 1, 1],\n",
       "       [0, 0, 0, 1, 1, 1],\n",
       "       [0, 0, 0, 1, 1, 1],\n",
       "       [0, 0, 0, 1, 1, 1],\n",
       "       [0, 1, 1, 1, 0, 0],\n",
       "       [0, 1, 0, 1, 1, 0],\n",
       "       [0, 0, 0, 1, 1, 1],\n",
       "       [0, 0, 0, 1, 1, 1],\n",
       "       [0, 0, 0, 1, 1, 1],\n",
       "       [0, 0, 0, 1, 1, 1],\n",
       "       [0, 0, 0, 1, 1, 1],\n",
       "       [0, 0, 0, 1, 1, 1],\n",
       "       [0, 0, 0, 1, 1, 1],\n",
       "       [0, 0, 0, 1, 1, 1],\n",
       "       [0, 0, 0, 1, 1, 1],\n",
       "       [0, 1, 1, 0, 1, 0],\n",
       "       [0, 0, 0, 1, 1, 1],\n",
       "       [0, 1, 0, 1, 1, 0],\n",
       "       [0, 0, 0, 1, 1, 1],\n",
       "       [0, 0, 0, 1, 1, 1],\n",
       "       [0, 0, 0, 1, 1, 1],\n",
       "       [0, 0, 1, 1, 1, 0],\n",
       "       [0, 0, 0, 1, 1, 1],\n",
       "       [0, 0, 0, 1, 1, 1],\n",
       "       [0, 0, 0, 1, 1, 1],\n",
       "       [0, 0, 0, 1, 1, 1],\n",
       "       [0, 0, 0, 1, 1, 1],\n",
       "       [0, 0, 0, 1, 1, 1],\n",
       "       [0, 1, 1, 1, 0, 0],\n",
       "       [0, 0, 0, 1, 1, 1],\n",
       "       [0, 0, 0, 1, 1, 1],\n",
       "       [0, 0, 0, 1, 1, 1],\n",
       "       [0, 0, 0, 1, 1, 1]], dtype=int8)"
      ]
     },
     "execution_count": 42,
     "metadata": {},
     "output_type": "execute_result"
    }
   ],
   "source": [
    "response.record[\"sample\"]"
   ]
  },
  {
   "cell_type": "markdown",
   "metadata": {},
   "source": [
    "### show resulting graph"
   ]
  },
  {
   "cell_type": "code",
   "execution_count": 58,
   "metadata": {},
   "outputs": [
    {
     "data": {
      "image/png": "[encoded data removed]",
      "text/plain": [
       "<Figure size 432x288 with 1 Axes>"
      ]
     },
     "metadata": {},
     "output_type": "display_data"
    }
   ],
   "source": [
    "spin = response.record[\"sample\"][0]\n",
    "node_colors = [spin[node]>0 for node in G.nodes()]\n",
    "\n",
    "nx.draw_networkx(G,node_color=node_colors)\n",
    "plt.axis(\"off\")\n",
    "plt.show()"
   ]
  },
  {
   "cell_type": "code",
   "execution_count": null,
   "metadata": {},
   "outputs": [],
   "source": []
  },
  {
   "cell_type": "code",
   "execution_count": null,
   "metadata": {},
   "outputs": [],
   "source": []
  }
 ],
 "metadata": {
  "kernelspec": {
   "display_name": "Python 3",
   "language": "python",
   "name": "python3"
  },
  "language_info": {
   "codemirror_mode": {
    "name": "ipython",
    "version": 3
   },
   "file_extension": ".py",
   "mimetype": "text/x-python",
   "name": "python",
   "nbconvert_exporter": "python",
   "pygments_lexer": "ipython3",
   "version": "3.7.5"
  }
 },
 "nbformat": 4,
 "nbformat_minor": 2
}
