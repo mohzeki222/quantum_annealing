{
 "cells": [
  {
   "cell_type": "markdown",
   "metadata": {},
   "source": [
    "## Necessary conditions for Jobsequencing\n",
    "### Install pyQUBO from Recruit Communications Co. Ltd.\n",
    "    pip install pyqubo\n",
    "### Install openJij from Jij Inc.  (startup from Tohoku University)\n",
    "    pip install -U cmake (in google collaboratory, update cmake)\n",
    "    pip install open jij"
   ]
  },
  {
   "cell_type": "markdown",
   "metadata": {},
   "source": [
    "# Solve Jobsequencing"
   ]
  },
  {
   "cell_type": "markdown",
   "metadata": {},
   "source": [
    "### import pyQUBO, openJij, numpy, and matplotlib"
   ]
  },
  {
   "cell_type": "code",
   "execution_count": 25,
   "metadata": {},
   "outputs": [],
   "source": [
    "from pyqubo  import Array,Constraint, Placeholder\n",
    "import openjij as jij\n",
    "import numpy as np\n",
    "import matplotlib.pyplot as plt"
   ]
  },
  {
   "cell_type": "markdown",
   "metadata": {},
   "source": [
    "Array, Constrains and Placeholders are convenient classes from pyQUBO"
   ]
  },
  {
   "cell_type": "markdown",
   "metadata": {},
   "source": [
    "### Prepare binary variables"
   ]
  },
  {
   "cell_type": "code",
   "execution_count": 26,
   "metadata": {},
   "outputs": [],
   "source": [
    "N = 10\n",
    "M = 3\n",
    "ymax = 10\n",
    "vartype = \"BINARY\"\n",
    "q = Array.create(\"q\",shape=[M,N],vartype=vartype)\n",
    "y = Array.create(\"y\",shape=ymax,vartype=vartype)"
   ]
  },
  {
   "cell_type": "markdown",
   "metadata": {},
   "source": [
    "\"q\" is name of variables  \n",
    "shape specifies the shape of variables as vector, matrix, or...  \n",
    "vartype selects -1 or 1 by \"SPIN\" and 0 or 1by \"BINARY\""
   ]
  },
  {
   "cell_type": "code",
   "execution_count": 27,
   "metadata": {},
   "outputs": [
    {
     "name": "stdout",
     "output_type": "stream",
     "text": [
      "Array([[Binary(q[0][0]), Binary(q[0][1]), Binary(q[0][2]), Binary(q[0][3]), Binary(q[0][4]), Binary(q[0][5]), Binary(q[0][6]), Binary(q[0][7]), Binary(q[0][8]), Binary(q[0][9])],\n",
      "       [Binary(q[1][0]), Binary(q[1][1]), Binary(q[1][2]), Binary(q[1][3]), Binary(q[1][4]), Binary(q[1][5]), Binary(q[1][6]), Binary(q[1][7]), Binary(q[1][8]), Binary(q[1][9])],\n",
      "       [Binary(q[2][0]), Binary(q[2][1]), Binary(q[2][2]), Binary(q[2][3]), Binary(q[2][4]), Binary(q[2][5]), Binary(q[2][6]), Binary(q[2][7]), Binary(q[2][8]), Binary(q[2][9])]])\n"
     ]
    }
   ],
   "source": [
    "print(q)"
   ]
  },
  {
   "cell_type": "code",
   "execution_count": 28,
   "metadata": {},
   "outputs": [
    {
     "name": "stdout",
     "output_type": "stream",
     "text": [
      "Array([Binary(y[0]), Binary(y[1]), Binary(y[2]), Binary(y[3]), Binary(y[4]), Binary(y[5]), Binary(y[6]), Binary(y[7]), Binary(y[8]), Binary(y[9])])\n"
     ]
    }
   ],
   "source": [
    "print(y)"
   ]
  },
  {
   "cell_type": "markdown",
   "metadata": {},
   "source": [
    "### Prepare values and weights"
   ]
  },
  {
   "cell_type": "code",
   "execution_count": 101,
   "metadata": {},
   "outputs": [],
   "source": [
    "Lmax = 5\n",
    "L = np.random.randint(1,Lmax,N)\n",
    "n = np.linspace(1,ymax,ymax)"
   ]
  },
  {
   "cell_type": "markdown",
   "metadata": {},
   "source": [
    "### Define cost function"
   ]
  },
  {
   "cell_type": "code",
   "execution_count": 102,
   "metadata": {},
   "outputs": [],
   "source": [
    "E1 = Constraint(np.sum((np.sum(q,axis=0)-1)**2,axis=0),\"select\")"
   ]
  },
  {
   "cell_type": "code",
   "execution_count": 103,
   "metadata": {},
   "outputs": [],
   "source": [
    "E2 = 0\n",
    "for k in range(M):\n",
    "    temp = 0\n",
    "    for i in range(N):\n",
    "        temp += L[i]*(q[k][i]-q[0][i])\n",
    "    temp += np.dot(n,y)\n",
    "    E2 += temp**2\n",
    "E2 = Constraint(E2,\"y\")"
   ]
  },
  {
   "cell_type": "code",
   "execution_count": 104,
   "metadata": {},
   "outputs": [],
   "source": [
    "E3 = 0\n",
    "for i in range(N):\n",
    "    E3 += L[i]*q[0][i]"
   ]
  },
  {
   "cell_type": "code",
   "execution_count": 105,
   "metadata": {},
   "outputs": [],
   "source": [
    "Lam1 = Placeholder('Lam1')\n",
    "Lam2 = Placeholder('Lam2')\n",
    "E_cost = Lam1*E1+Lam2*E2+E3"
   ]
  },
  {
   "cell_type": "markdown",
   "metadata": {},
   "source": [
    "### Compile the cost function"
   ]
  },
  {
   "cell_type": "code",
   "execution_count": 106,
   "metadata": {},
   "outputs": [],
   "source": [
    "model = E_cost.compile()"
   ]
  },
  {
   "cell_type": "markdown",
   "metadata": {},
   "source": [
    "### Get qubo matrix"
   ]
  },
  {
   "cell_type": "code",
   "execution_count": 175,
   "metadata": {},
   "outputs": [],
   "source": [
    "feed_dict = {'Lam1': 10.0,'Lam2': 10.0}\n",
    "Q, offset = model.to_qubo(feed_dict=feed_dict)"
   ]
  },
  {
   "cell_type": "markdown",
   "metadata": {},
   "source": [
    "### Prepare simulation of quantum annealing"
   ]
  },
  {
   "cell_type": "code",
   "execution_count": 176,
   "metadata": {},
   "outputs": [],
   "source": [
    "sampler = jij.SQASampler(beta=10.0, gamma=1.0, trotter=4, step_length=100, step_num=100, schedule=None, iteration=10)"
   ]
  },
  {
   "cell_type": "markdown",
   "metadata": {},
   "source": [
    "This is done by quantum Monte-Carlo simulation  \n",
    "gamma = strength of quantum fluctuation  \n",
    "iteration = number of reads  \n",
    "step_num = number of MCS  \n",
    "trotter = Trotter number  \n",
    "step_length = length of MCS in the same gamma   "
   ]
  },
  {
   "cell_type": "markdown",
   "metadata": {},
   "source": [
    "### Let's simulate quantum annealing"
   ]
  },
  {
   "cell_type": "code",
   "execution_count": 177,
   "metadata": {},
   "outputs": [],
   "source": [
    "response = sampler.sample_qubo(Q)"
   ]
  },
  {
   "cell_type": "markdown",
   "metadata": {},
   "source": [
    "### Show results"
   ]
  },
  {
   "cell_type": "code",
   "execution_count": 178,
   "metadata": {},
   "outputs": [
    {
     "name": "stdout",
     "output_type": "stream",
     "text": [
      "iteration : 10, minimum energy : -93.0, var_type : BINARY\n",
      "indices: ['q[2][9]', 'q[0][5]', 'y[5]', 'q[2][3]', 'q[0][4]', 'q[0][7]', 'q[1][8]', 'q[2][5]', 'q[0][0]', 'q[0][1]', 'q[1][3]', 'q[2][1]', 'q[0][9]', 'y[2]', 'y[7]', 'q[2][8]', 'y[1]', 'q[2][4]', 'q[0][2]', 'q[2][7]', 'q[1][2]', 'y[9]', 'q[1][1]', 'y[0]', 'q[1][6]', 'y[8]', 'q[1][5]', 'q[0][6]', 'q[0][8]', 'q[1][7]', 'y[4]', 'q[2][6]', 'y[3]', 'q[1][0]', 'q[2][2]', 'q[1][9]', 'y[6]', 'q[1][4]', 'q[0][3]', 'q[2][0]'] \n",
      "minmum energy state sample : [0, 0, 0, 0, 0, 0, 0, 0, 1, 0, 1, 0, 0, 0, 0, 0, 0, 1, 1, 1, 0, 0, 1, 0, 0, 0, 1, 1, 1, 0, 0, 0, 0, 0, 0, 1, 0, 0, 0, 0]\n"
     ]
    }
   ],
   "source": [
    "print(response)"
   ]
  },
  {
   "cell_type": "markdown",
   "metadata": {},
   "source": [
    "### minimum sample"
   ]
  },
  {
   "cell_type": "code",
   "execution_count": 179,
   "metadata": {},
   "outputs": [
    {
     "data": {
      "text/plain": [
       "{'q[2][9]': 0,\n",
       " 'q[0][5]': 0,\n",
       " 'y[5]': 0,\n",
       " 'q[2][3]': 0,\n",
       " 'q[0][4]': 0,\n",
       " 'q[0][7]': 0,\n",
       " 'q[1][8]': 0,\n",
       " 'q[2][5]': 0,\n",
       " 'q[0][0]': 1,\n",
       " 'q[0][1]': 0,\n",
       " 'q[1][3]': 1,\n",
       " 'q[2][1]': 0,\n",
       " 'q[0][9]': 0,\n",
       " 'y[2]': 0,\n",
       " 'y[7]': 0,\n",
       " 'q[2][8]': 0,\n",
       " 'y[1]': 0,\n",
       " 'q[2][4]': 1,\n",
       " 'q[0][2]': 1,\n",
       " 'q[2][7]': 1,\n",
       " 'q[1][2]': 0,\n",
       " 'y[9]': 0,\n",
       " 'q[1][1]': 1,\n",
       " 'y[0]': 0,\n",
       " 'q[1][6]': 0,\n",
       " 'y[8]': 0,\n",
       " 'q[1][5]': 1,\n",
       " 'q[0][6]': 1,\n",
       " 'q[0][8]': 1,\n",
       " 'q[1][7]': 0,\n",
       " 'y[4]': 0,\n",
       " 'q[2][6]': 0,\n",
       " 'y[3]': 0,\n",
       " 'q[1][0]': 0,\n",
       " 'q[2][2]': 0,\n",
       " 'q[1][9]': 1,\n",
       " 'y[6]': 0,\n",
       " 'q[1][4]': 0,\n",
       " 'q[0][3]': 0,\n",
       " 'q[2][0]': 0}"
      ]
     },
     "execution_count": 179,
     "metadata": {},
     "output_type": "execute_result"
    }
   ],
   "source": [
    "response.samples[0]"
   ]
  },
  {
   "cell_type": "markdown",
   "metadata": {},
   "source": [
    "### decode solution through pyQUBO"
   ]
  },
  {
   "cell_type": "code",
   "execution_count": 180,
   "metadata": {},
   "outputs": [],
   "source": [
    "dsol, broken, energy = model.decode_solution(response.samples[0], feed_dict = feed_dict, vartype=vartype)"
   ]
  },
  {
   "cell_type": "code",
   "execution_count": 181,
   "metadata": {},
   "outputs": [
    {
     "data": {
      "text/plain": [
       "{'q': {2: {9: 0, 3: 0, 5: 0, 1: 0, 8: 0, 4: 1, 7: 1, 6: 0, 2: 0, 0: 0},\n",
       "  0: {5: 0, 4: 0, 7: 0, 0: 1, 1: 0, 9: 0, 2: 1, 6: 1, 8: 1, 3: 0},\n",
       "  1: {8: 0, 3: 1, 2: 0, 1: 1, 6: 0, 5: 1, 7: 0, 0: 0, 9: 1, 4: 0}},\n",
       " 'y': {5: 0, 2: 0, 7: 0, 1: 0, 9: 0, 0: 0, 8: 0, 4: 0, 3: 0, 6: 0}}"
      ]
     },
     "execution_count": 181,
     "metadata": {},
     "output_type": "execute_result"
    }
   ],
   "source": [
    "dsol"
   ]
  },
  {
   "cell_type": "markdown",
   "metadata": {},
   "source": [
    "### check constraints"
   ]
  },
  {
   "cell_type": "code",
   "execution_count": 182,
   "metadata": {},
   "outputs": [
    {
     "name": "stdout",
     "output_type": "stream",
     "text": [
      "{}\n"
     ]
    }
   ],
   "source": [
    "print(broken)"
   ]
  },
  {
   "cell_type": "markdown",
   "metadata": {},
   "source": [
    "### Show results"
   ]
  },
  {
   "cell_type": "code",
   "execution_count": 183,
   "metadata": {},
   "outputs": [
    {
     "data": {
      "image/png": "[encoded data removed]",
      "text/plain": [
       "<Figure size 432x288 with 1 Axes>"
      ]
     },
     "metadata": {
      "needs_background": "light"
     },
     "output_type": "display_data"
    }
   ],
   "source": [
    "time = np.zeros(M)\n",
    "for k in range(M):\n",
    "    for keys in dsol[\"q\"][k]:\n",
    "        if dsol[\"q\"][k][keys] == 1:\n",
    "            time[k] += L[keys]\n",
    "plt.bar(range(M),time)\n",
    "plt.show()"
   ]
  },
  {
   "cell_type": "code",
   "execution_count": null,
   "metadata": {},
   "outputs": [],
   "source": []
  },
  {
   "cell_type": "code",
   "execution_count": null,
   "metadata": {},
   "outputs": [],
   "source": []
  },
  {
   "cell_type": "code",
   "execution_count": null,
   "metadata": {},
   "outputs": [],
   "source": []
  },
  {
   "cell_type": "code",
   "execution_count": null,
   "metadata": {},
   "outputs": [],
   "source": []
  }
 ],
 "metadata": {
  "kernelspec": {
   "display_name": "Python 3",
   "language": "python",
   "name": "python3"
  },
  "language_info": {
   "codemirror_mode": {
    "name": "ipython",
    "version": 3
   },
   "file_extension": ".py",
   "mimetype": "text/x-python",
   "name": "python",
   "nbconvert_exporter": "python",
   "pygments_lexer": "ipython3",
   "version": "3.7.3"
  }
 },
 "nbformat": 4,
 "nbformat_minor": 2
}
